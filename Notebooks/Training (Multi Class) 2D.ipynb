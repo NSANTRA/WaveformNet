{
 "cells": [
  {
   "cell_type": "markdown",
   "id": "ee4156f4-0c84-4f64-a3a2-8635cca5ff24",
   "metadata": {},
   "source": [
    "# Importing Necessary Libraries"
   ]
  },
  {
   "cell_type": "code",
   "execution_count": 2,
   "id": "a537c649-65f3-4199-9b75-077428869440",
   "metadata": {},
   "outputs": [],
   "source": [
    "import os\n",
    "import numpy as np\n",
    "import pandas as pd\n",
    "import seaborn as sns\n",
    "import matplotlib.pyplot as plt\n",
    "import tensorflow as tf\n",
    "from tensorflow.keras.regularizers import l2\n",
    "from tensorflow.keras.callbacks import EarlyStopping\n",
    "from tensorflow.keras.models import Sequential\n",
    "from tensorflow.keras import layers\n",
    "from sklearn.model_selection import train_test_split"
   ]
  },
  {
   "cell_type": "markdown",
   "id": "91a35a1e-49fb-4842-87ac-7553a652f464",
   "metadata": {},
   "source": [
    "# Training"
   ]
  },
  {
   "cell_type": "markdown",
   "id": "eacc2e5b-3148-4e7a-aef4-422f87729d59",
   "metadata": {},
   "source": [
    "## Loading and Splitting the Data"
   ]
  },
  {
   "cell_type": "code",
   "execution_count": 5,
   "id": "feeb1945-e580-4e15-bd17-dca2e07df4d9",
   "metadata": {},
   "outputs": [],
   "source": [
    "X = np.load(\"../Features.npy\")\n",
    "y = np.load(\"../Labels (Mutli Class).npy\")"
   ]
  },
  {
   "cell_type": "code",
   "execution_count": 6,
   "id": "323d5f89-19c4-43d5-b59b-debb7044356b",
   "metadata": {},
   "outputs": [
    {
     "data": {
      "text/plain": [
       "((109416, 250, 2), (109416,))"
      ]
     },
     "execution_count": 6,
     "metadata": {},
     "output_type": "execute_result"
    }
   ],
   "source": [
    "X.shape, y.shape"
   ]
  },
  {
   "cell_type": "code",
   "execution_count": 7,
   "id": "bd791b81-fed5-45d0-aab1-37c1652ef9d7",
   "metadata": {},
   "outputs": [],
   "source": [
    "X, y = X.astype(np.float32), y.astype(np.float32)"
   ]
  },
  {
   "cell_type": "code",
   "execution_count": 8,
   "id": "b7772b6b-1f5b-4788-ac84-5af5faed1b85",
   "metadata": {},
   "outputs": [],
   "source": [
    "X = np.expand_dims(X, axis = -1)"
   ]
  },
  {
   "cell_type": "code",
   "execution_count": 9,
   "id": "cd1d6dd1-3321-413c-a55f-d3659110fcb2",
   "metadata": {},
   "outputs": [
    {
     "data": {
      "text/plain": [
       "((109416, 250, 2, 1), (109416,))"
      ]
     },
     "execution_count": 9,
     "metadata": {},
     "output_type": "execute_result"
    }
   ],
   "source": [
    "X.shape, y.shape"
   ]
  },
  {
   "cell_type": "code",
   "execution_count": 10,
   "id": "536a15f6-15c7-47e6-89db-65d4776d12cb",
   "metadata": {},
   "outputs": [],
   "source": [
    "X_temp, X_test, y_temp, y_test = train_test_split(X, y, shuffle = True, random_state = 42, test_size = 0.2)\n",
    "X_train, X_val, y_train, y_val = train_test_split(X_temp, y_temp, shuffle = True, random_state = 42, test_size = 0.2)"
   ]
  },
  {
   "cell_type": "code",
   "execution_count": 11,
   "id": "b50d8afa-aaad-48ea-9e68-dc3a9c4f8a69",
   "metadata": {},
   "outputs": [
    {
     "data": {
      "text/plain": [
       "((70025, 250, 2, 1), (17507, 250, 2, 1), (21884, 250, 2, 1))"
      ]
     },
     "execution_count": 11,
     "metadata": {},
     "output_type": "execute_result"
    }
   ],
   "source": [
    "X_train.shape, X_val.shape, X_test.shape"
   ]
  },
  {
   "cell_type": "code",
   "execution_count": 12,
   "id": "dc38d4df-655c-466c-a596-82a8e3ab222f",
   "metadata": {},
   "outputs": [
    {
     "data": {
      "text/plain": [
       "(14,)"
      ]
     },
     "execution_count": 12,
     "metadata": {},
     "output_type": "execute_result"
    }
   ],
   "source": [
    "# Numberof classes\n",
    "np.unique(y_train).shape"
   ]
  },
  {
   "cell_type": "code",
   "execution_count": 13,
   "id": "90a313f0-617d-46e5-b931-96d795ce2572",
   "metadata": {},
   "outputs": [
    {
     "data": {
      "text/plain": [
       "dtype('float32')"
      ]
     },
     "execution_count": 13,
     "metadata": {},
     "output_type": "execute_result"
    }
   ],
   "source": [
    "X_train.dtype"
   ]
  },
  {
   "cell_type": "markdown",
   "id": "1310a966-a623-41b9-8c22-38b11c1d9d4a",
   "metadata": {},
   "source": [
    "## Model Definition, Compilation and Declaration"
   ]
  },
  {
   "cell_type": "code",
   "execution_count": 25,
   "id": "091e4527-a857-461b-864a-3783098f140f",
   "metadata": {},
   "outputs": [],
   "source": [
    "def build_ecg_cnn_model(input_shape = (250, 2, 1), num_classes=14):\n",
    "    model = Sequential([\n",
    "        # First convolution layer\n",
    "        layers.Conv2D(32, (3, 3), activation='relu', padding = \"same\", input_shape=(250, 2, 1)),\n",
    "        layers.MaxPooling2D((2, 1)),\n",
    "        \n",
    "        # Second convolution layer\n",
    "        layers.Conv2D(64, (3, 3), activation='relu', padding = \"same\"),\n",
    "        layers.MaxPooling2D((2, 1)),\n",
    "\n",
    "        # Third convolution layer\n",
    "        layers.Conv2D(128, (3, 3), activation='relu', padding = \"same\"),\n",
    "        layers.MaxPooling2D((2, 1)),\n",
    "\n",
    "        # Fourth convolution layer\n",
    "        layers.Conv2D(256, (3, 3), activation='relu', padding = \"same\"),\n",
    "        layers.MaxPooling2D((2, 1)),\n",
    "        \n",
    "        # Flattening and fully connected layers\n",
    "        layers.Flatten(),\n",
    "        \n",
    "        layers.Dense(128, activation='relu'),\n",
    "        layers.Dense(64, activation='relu'),\n",
    "        layers.Dense(32, activation='relu'),\n",
    "        layers.Dense(num_classes, activation='softmax')  # For binary classification (normal/abnormal)\n",
    "    ])\n",
    "    \n",
    "    model.compile(optimizer='adam', loss='sparse_categorical_crossentropy', metrics=['accuracy'])\n",
    "    \n",
    "    return model"
   ]
  },
  {
   "cell_type": "code",
   "execution_count": 27,
   "id": "b948f5b1-701e-4893-871d-e4dc7101f06a",
   "metadata": {},
   "outputs": [],
   "source": [
    "model = build_ecg_cnn_model()"
   ]
  },
  {
   "cell_type": "code",
   "execution_count": 28,
   "id": "0bb7d48e-6e92-457c-b1ce-ac419538dbac",
   "metadata": {},
   "outputs": [
    {
     "name": "stdout",
     "output_type": "stream",
     "text": [
      "Model: \"sequential\"\n",
      "_________________________________________________________________\n",
      " Layer (type)                Output Shape              Param #   \n",
      "=================================================================\n",
      " conv2d (Conv2D)             (None, 250, 2, 32)        320       \n",
      "                                                                 \n",
      " max_pooling2d (MaxPooling2D  (None, 125, 2, 32)       0         \n",
      " )                                                               \n",
      "                                                                 \n",
      " conv2d_1 (Conv2D)           (None, 125, 2, 64)        18496     \n",
      "                                                                 \n",
      " max_pooling2d_1 (MaxPooling  (None, 62, 2, 64)        0         \n",
      " 2D)                                                             \n",
      "                                                                 \n",
      " conv2d_2 (Conv2D)           (None, 62, 2, 128)        73856     \n",
      "                                                                 \n",
      " max_pooling2d_2 (MaxPooling  (None, 31, 2, 128)       0         \n",
      " 2D)                                                             \n",
      "                                                                 \n",
      " conv2d_3 (Conv2D)           (None, 31, 2, 256)        295168    \n",
      "                                                                 \n",
      " max_pooling2d_3 (MaxPooling  (None, 15, 2, 256)       0         \n",
      " 2D)                                                             \n",
      "                                                                 \n",
      " flatten (Flatten)           (None, 7680)              0         \n",
      "                                                                 \n",
      " dense (Dense)               (None, 128)               983168    \n",
      "                                                                 \n",
      " dense_1 (Dense)             (None, 64)                8256      \n",
      "                                                                 \n",
      " dense_2 (Dense)             (None, 32)                2080      \n",
      "                                                                 \n",
      " dense_3 (Dense)             (None, 14)                462       \n",
      "                                                                 \n",
      "=================================================================\n",
      "Total params: 1,381,806\n",
      "Trainable params: 1,381,806\n",
      "Non-trainable params: 0\n",
      "_________________________________________________________________\n"
     ]
    }
   ],
   "source": [
    "model.summary()"
   ]
  },
  {
   "cell_type": "markdown",
   "id": "23d7488e-3bc4-4545-bd92-2c3e4c727b0f",
   "metadata": {},
   "source": [
    "## Fitting The Model"
   ]
  },
  {
   "cell_type": "code",
   "execution_count": 29,
   "id": "a08e698d-284b-428b-b784-24643188017c",
   "metadata": {},
   "outputs": [],
   "source": [
    "early_stop = EarlyStopping(monitor = \"val_loss\", patience = 3, restore_best_weights = True)"
   ]
  },
  {
   "cell_type": "code",
   "execution_count": 31,
   "id": "f5527e8f-26eb-4786-aafc-d8837cd0270c",
   "metadata": {
    "scrolled": true
   },
   "outputs": [
    {
     "name": "stdout",
     "output_type": "stream",
     "text": [
      "Epoch 1/50\n",
      "1095/1095 [==============================] - 17s 11ms/step - loss: 0.2430 - accuracy: 0.9413 - val_loss: 0.1123 - val_accuracy: 0.9718\n",
      "Epoch 2/50\n",
      "1095/1095 [==============================] - 12s 11ms/step - loss: 0.0855 - accuracy: 0.9791 - val_loss: 0.0703 - val_accuracy: 0.9818\n",
      "Epoch 3/50\n",
      "1095/1095 [==============================] - 12s 11ms/step - loss: 0.0628 - accuracy: 0.9838 - val_loss: 0.0622 - val_accuracy: 0.9853\n",
      "Epoch 4/50\n",
      "1095/1095 [==============================] - 12s 11ms/step - loss: 0.0511 - accuracy: 0.9861 - val_loss: 0.0539 - val_accuracy: 0.9866\n",
      "Epoch 5/50\n",
      "1095/1095 [==============================] - 12s 11ms/step - loss: 0.0445 - accuracy: 0.9880 - val_loss: 0.0487 - val_accuracy: 0.9874\n",
      "Epoch 6/50\n",
      "1095/1095 [==============================] - 12s 11ms/step - loss: 0.0370 - accuracy: 0.9896 - val_loss: 0.0483 - val_accuracy: 0.9870\n",
      "Epoch 7/50\n",
      "1095/1095 [==============================] - 12s 11ms/step - loss: 0.0353 - accuracy: 0.9900 - val_loss: 0.0442 - val_accuracy: 0.9883\n",
      "Epoch 8/50\n",
      "1095/1095 [==============================] - 12s 11ms/step - loss: 0.0291 - accuracy: 0.9918 - val_loss: 0.0425 - val_accuracy: 0.9893\n",
      "Epoch 9/50\n",
      "1095/1095 [==============================] - 12s 11ms/step - loss: 0.0279 - accuracy: 0.9917 - val_loss: 0.0450 - val_accuracy: 0.9887\n",
      "Epoch 10/50\n",
      "1095/1095 [==============================] - 12s 11ms/step - loss: 0.0257 - accuracy: 0.9922 - val_loss: 0.0528 - val_accuracy: 0.9864\n",
      "Epoch 11/50\n",
      "1095/1095 [==============================] - 12s 11ms/step - loss: 0.0238 - accuracy: 0.9929 - val_loss: 0.0420 - val_accuracy: 0.9894\n",
      "Epoch 12/50\n",
      "1095/1095 [==============================] - 12s 11ms/step - loss: 0.0204 - accuracy: 0.9937 - val_loss: 0.0552 - val_accuracy: 0.9876\n",
      "Epoch 13/50\n",
      "1095/1095 [==============================] - 12s 11ms/step - loss: 0.0211 - accuracy: 0.9931 - val_loss: 0.0519 - val_accuracy: 0.9879\n",
      "Epoch 14/50\n",
      "1095/1095 [==============================] - 12s 11ms/step - loss: 0.0182 - accuracy: 0.9944 - val_loss: 0.0502 - val_accuracy: 0.9889\n",
      "Epoch 15/50\n",
      "1095/1095 [==============================] - 12s 11ms/step - loss: 0.0164 - accuracy: 0.9948 - val_loss: 0.0608 - val_accuracy: 0.9876\n",
      "Epoch 16/50\n",
      "1095/1095 [==============================] - 12s 11ms/step - loss: 0.0166 - accuracy: 0.9948 - val_loss: 0.0452 - val_accuracy: 0.9889\n",
      "Epoch 17/50\n",
      "1095/1095 [==============================] - 12s 11ms/step - loss: 0.0157 - accuracy: 0.9950 - val_loss: 0.0486 - val_accuracy: 0.9890\n",
      "Epoch 18/50\n",
      "1095/1095 [==============================] - 12s 11ms/step - loss: 0.0136 - accuracy: 0.9958 - val_loss: 0.0556 - val_accuracy: 0.9898\n",
      "Epoch 19/50\n",
      "1095/1095 [==============================] - 12s 11ms/step - loss: 0.0164 - accuracy: 0.9950 - val_loss: 0.0458 - val_accuracy: 0.9898\n",
      "Epoch 20/50\n",
      "1095/1095 [==============================] - 12s 11ms/step - loss: 0.0117 - accuracy: 0.9961 - val_loss: 0.0529 - val_accuracy: 0.9898\n",
      "Epoch 21/50\n",
      "1095/1095 [==============================] - 12s 11ms/step - loss: 0.0131 - accuracy: 0.9960 - val_loss: 0.0479 - val_accuracy: 0.9902\n",
      "Epoch 22/50\n",
      "1095/1095 [==============================] - 12s 11ms/step - loss: 0.0109 - accuracy: 0.9967 - val_loss: 0.0525 - val_accuracy: 0.9891\n",
      "Epoch 23/50\n",
      "1095/1095 [==============================] - 13s 12ms/step - loss: 0.0122 - accuracy: 0.9962 - val_loss: 0.0525 - val_accuracy: 0.9899\n",
      "Epoch 24/50\n",
      "1095/1095 [==============================] - 12s 11ms/step - loss: 0.0107 - accuracy: 0.9967 - val_loss: 0.0445 - val_accuracy: 0.9900\n",
      "Epoch 25/50\n",
      "1095/1095 [==============================] - 12s 11ms/step - loss: 0.0119 - accuracy: 0.9966 - val_loss: 0.0522 - val_accuracy: 0.9888\n",
      "Epoch 26/50\n",
      "1095/1095 [==============================] - 13s 12ms/step - loss: 0.0106 - accuracy: 0.9968 - val_loss: 0.0476 - val_accuracy: 0.9892\n",
      "Epoch 27/50\n",
      "1095/1095 [==============================] - 13s 12ms/step - loss: 0.0088 - accuracy: 0.9972 - val_loss: 0.0551 - val_accuracy: 0.9899\n",
      "Epoch 28/50\n",
      "1095/1095 [==============================] - 13s 12ms/step - loss: 0.0106 - accuracy: 0.9968 - val_loss: 0.0534 - val_accuracy: 0.9906\n",
      "Epoch 29/50\n",
      "1095/1095 [==============================] - 12s 11ms/step - loss: 0.0095 - accuracy: 0.9971 - val_loss: 0.0534 - val_accuracy: 0.9892\n",
      "Epoch 30/50\n",
      "1095/1095 [==============================] - 12s 11ms/step - loss: 0.0105 - accuracy: 0.9967 - val_loss: 0.0621 - val_accuracy: 0.9896\n",
      "Epoch 31/50\n",
      "1095/1095 [==============================] - 13s 11ms/step - loss: 0.0081 - accuracy: 0.9976 - val_loss: 0.0595 - val_accuracy: 0.9898\n",
      "Epoch 32/50\n",
      "1095/1095 [==============================] - 12s 11ms/step - loss: 0.0093 - accuracy: 0.9973 - val_loss: 0.0486 - val_accuracy: 0.9903\n",
      "Epoch 33/50\n",
      "1095/1095 [==============================] - 13s 11ms/step - loss: 0.0076 - accuracy: 0.9976 - val_loss: 0.0534 - val_accuracy: 0.9897\n",
      "Epoch 34/50\n",
      "1095/1095 [==============================] - 12s 11ms/step - loss: 0.0099 - accuracy: 0.9973 - val_loss: 0.0530 - val_accuracy: 0.9911\n",
      "Epoch 35/50\n",
      "1095/1095 [==============================] - 13s 11ms/step - loss: 0.0085 - accuracy: 0.9976 - val_loss: 0.0671 - val_accuracy: 0.9868\n",
      "Epoch 36/50\n",
      "1095/1095 [==============================] - 12s 11ms/step - loss: 0.0080 - accuracy: 0.9977 - val_loss: 0.0621 - val_accuracy: 0.9898\n",
      "Epoch 37/50\n",
      "1095/1095 [==============================] - 12s 11ms/step - loss: 0.0068 - accuracy: 0.9981 - val_loss: 0.0596 - val_accuracy: 0.9885\n",
      "Epoch 38/50\n",
      "1095/1095 [==============================] - 13s 12ms/step - loss: 0.0094 - accuracy: 0.9973 - val_loss: 0.0666 - val_accuracy: 0.9872\n",
      "Epoch 39/50\n",
      "1095/1095 [==============================] - 13s 11ms/step - loss: 0.0104 - accuracy: 0.9969 - val_loss: 0.0578 - val_accuracy: 0.9909\n",
      "Epoch 40/50\n",
      "1095/1095 [==============================] - 13s 11ms/step - loss: 0.0043 - accuracy: 0.9985 - val_loss: 0.0569 - val_accuracy: 0.9909\n",
      "Epoch 41/50\n",
      "1095/1095 [==============================] - 13s 12ms/step - loss: 0.0048 - accuracy: 0.9986 - val_loss: 0.0699 - val_accuracy: 0.9885\n",
      "Epoch 42/50\n",
      "1095/1095 [==============================] - 13s 12ms/step - loss: 0.0088 - accuracy: 0.9975 - val_loss: 0.0597 - val_accuracy: 0.9907\n",
      "Epoch 43/50\n",
      "1095/1095 [==============================] - 13s 12ms/step - loss: 0.0079 - accuracy: 0.9979 - val_loss: 0.0649 - val_accuracy: 0.9891\n",
      "Epoch 44/50\n",
      "1095/1095 [==============================] - 13s 11ms/step - loss: 0.0063 - accuracy: 0.9981 - val_loss: 0.0713 - val_accuracy: 0.9905\n",
      "Epoch 45/50\n",
      "1095/1095 [==============================] - 13s 12ms/step - loss: 0.0057 - accuracy: 0.9982 - val_loss: 0.0749 - val_accuracy: 0.9899\n",
      "Epoch 46/50\n",
      "1095/1095 [==============================] - 13s 12ms/step - loss: 0.0092 - accuracy: 0.9976 - val_loss: 0.0565 - val_accuracy: 0.9908\n",
      "Epoch 47/50\n",
      "1095/1095 [==============================] - 13s 12ms/step - loss: 0.0082 - accuracy: 0.9975 - val_loss: 0.0784 - val_accuracy: 0.9898\n",
      "Epoch 48/50\n",
      "1095/1095 [==============================] - 13s 11ms/step - loss: 0.0059 - accuracy: 0.9983 - val_loss: 0.0822 - val_accuracy: 0.9901\n",
      "Epoch 49/50\n",
      "1095/1095 [==============================] - 13s 12ms/step - loss: 0.0058 - accuracy: 0.9983 - val_loss: 0.0698 - val_accuracy: 0.9894\n",
      "Epoch 50/50\n",
      "1095/1095 [==============================] - 13s 11ms/step - loss: 0.0075 - accuracy: 0.9978 - val_loss: 0.0673 - val_accuracy: 0.9898\n"
     ]
    }
   ],
   "source": [
    "history = model.fit(X_train, y_train, validation_data = (X_val, y_val), epochs = 50, batch_size = 64)"
   ]
  },
  {
   "cell_type": "markdown",
   "id": "d3dccb3f-0cb6-494c-b326-15bf3ee02a5b",
   "metadata": {},
   "source": [
    "## Saving The Model"
   ]
  },
  {
   "cell_type": "code",
   "execution_count": 46,
   "id": "43baa93c-8056-4cf4-9842-e5a02c03902b",
   "metadata": {},
   "outputs": [],
   "source": [
    "# Saving the model in .h5 format\n",
    "model.save(\"../Models/Model 2D.h5\")"
   ]
  },
  {
   "cell_type": "code",
   "execution_count": 48,
   "id": "7aa6edf1-3a85-4f39-aaad-d56731e7c4a2",
   "metadata": {},
   "outputs": [],
   "source": [
    "# Saving the model in .keras format\n",
    "model.save(\"../Models/Model 2D.keras\")"
   ]
  },
  {
   "cell_type": "code",
   "execution_count": 50,
   "id": "3dc19734-457a-40a2-8444-f51ea526a479",
   "metadata": {},
   "outputs": [
    {
     "name": "stderr",
     "output_type": "stream",
     "text": [
      "WARNING:absl:Found untraced functions such as _jit_compiled_convolution_op, _jit_compiled_convolution_op, _jit_compiled_convolution_op, _jit_compiled_convolution_op while saving (showing 4 of 4). These functions will not be directly callable after loading.\n"
     ]
    },
    {
     "name": "stdout",
     "output_type": "stream",
     "text": [
      "INFO:tensorflow:Assets written to: ../Model 2D\\assets\n"
     ]
    },
    {
     "name": "stderr",
     "output_type": "stream",
     "text": [
      "INFO:tensorflow:Assets written to: ../Model 2D\\assets\n"
     ]
    }
   ],
   "source": [
    "# Saving the model in tf format\n",
    "model.save(\"../Model 2D\", save_format = \"tf\")"
   ]
  },
  {
   "cell_type": "markdown",
   "id": "943e7014-af23-4ef7-af25-aa5d8d64055e",
   "metadata": {},
   "source": [
    "# Saving the Model Training History"
   ]
  },
  {
   "cell_type": "code",
   "execution_count": 53,
   "id": "40d8b298-66db-4de7-afba-ccfa86402be4",
   "metadata": {},
   "outputs": [],
   "source": [
    "hist_df = pd.DataFrame(history.history)"
   ]
  },
  {
   "cell_type": "code",
   "execution_count": 55,
   "id": "b9293381-acb6-455e-9ef3-de3cfcf92ab1",
   "metadata": {},
   "outputs": [],
   "source": [
    "hist_df.to_csv(\"../History 2D.csv\")"
   ]
  }
 ],
 "metadata": {
  "kernelspec": {
   "display_name": "Python [conda env:Tensorflow-GPU]",
   "language": "python",
   "name": "conda-env-Tensorflow-GPU-py"
  },
  "language_info": {
   "codemirror_mode": {
    "name": "ipython",
    "version": 3
   },
   "file_extension": ".py",
   "mimetype": "text/x-python",
   "name": "python",
   "nbconvert_exporter": "python",
   "pygments_lexer": "ipython3",
   "version": "3.10.13"
  },
  "widgets": {
   "application/vnd.jupyter.widget-state+json": {
    "state": {},
    "version_major": 2,
    "version_minor": 0
   }
  }
 },
 "nbformat": 4,
 "nbformat_minor": 5
}
