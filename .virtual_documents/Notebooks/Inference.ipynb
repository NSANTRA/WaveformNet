


import random
import numpy as np
import tensorflow as tf
import matplotlib.pyplot as plt
from sklearn.model_selection import train_test_split





model = tf.keras.models.load_model("../Models/Model.h5")


X, y = np.load("../Features.npy"), np.load("../Labels (Mutli Class).npy")





_, X_test, _, y_test = train_test_split(X, y, test_size = 0.2, shuffle = True, random_state = 30)


X_test.shape, y_test.shape





num_samples = 5
fig, axs = plt.subplots(num_samples, 1, figsize=(15, 15))

for i in range(num_samples):
    axs[i].plot(X_test[i, :, 0], label='Channel 1')
    axs[i].plot(X_test[i, :, 1], label='Channel 2')
    axs[i].set_title(f'ECG Sample {i + 1}')
    axs[i].set_xlabel('Time (samples)')
    axs[i].set_ylabel('Amplitude')
    axs[i].legend()

plt.tight_layout()
plt.show()








symbol, code = [], []

with open("../Remapped_Symbol_Classes.txt", "r", encoding = "utf-8") as file:
    for line in file:
        if "→" in line:
            s, c = line.strip().split("→")
            symbol.append(s.rstrip())
            code.append(c.lstrip())


symbol, code


def infer(input):
    temp = np.expand_dims(input, axis = 0)
    idx = np.argmax(model.predict(temp))

    plt.figure(figsize = (10, 6))
    plt.plot(input)
    plt.title(f"Random ECG Sample | Prediction: {'Normal' if idx == 6 else 'Abnormal'} and Annotation: {symbol[idx]}")
    plt.grid()
    plt.xlabel("Time")
    plt.ylabel("Amplitude")
    plt.show()


i = random.randint(0, 21884)
infer(X_test[i, :, :])
