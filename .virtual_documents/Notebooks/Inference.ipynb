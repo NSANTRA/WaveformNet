


import tensorflow as tf
import numpy as np
import matplotlib.pyplot as plt
from sklearn.model_selection import train_test_split
import random





model = tf.keras.models.load_model("../Models/Model.h5")


X, y = np.load("../Features.npy"), np.load("../Labels.npy")





_, X_test, _, y_test = train_test_split(X, y, test_size = 0.2, shuffle = True, random_state = 30)


X_test.shape, y_test.shape





num_samples = 5
fig, axs = plt.subplots(num_samples, 1, figsize=(10, 10))

for i in range(num_samples):
    axs[i].plot(X_test[i, :, 0], label='Channel 1')
    axs[i].plot(X_test[i, :, 1], label='Channel 2')
    axs[i].set_title(f'ECG Sample {i + 1}')
    axs[i].set_xlabel('Time (samples)')
    axs[i].set_ylabel('Amplitude')
    axs[i].legend()

plt.tight_layout()
plt.show()





symbol, code = [], []

with open("../Remapped_Symbol_Classes.txt", "r", encoding = "utf-8") as file:
    for line in file:
        if "→" in line:
            s, c = line.strip().split("→")
            symbol.append(s.rstrip())
            code.append(c.lstrip())


symbol, code


# Abnormal Beat Symbols
abnormal = ['L','R','V','/','A','f','F','j','a','E','J','e','S']

# Normal Beat Symbols
normal = ['N'] 


i = random.randint(0, X_test.shape[0] + 1)


temp = np.expand_dims(X_test[i, :, :], axis = 0)


idx = np.argmax(model.predict(temp))


idx


plt.plot(X_test[i, :, :])
plt.title(f"Random ECG Sample | Prediction: {'Normal' if idx == 6 else 'Abnormal'} | Annotation: {symbol[idx]}")
plt.grid()
plt.xlabel("Time")
plt.ylabel("Amplitude")
plt.show()



