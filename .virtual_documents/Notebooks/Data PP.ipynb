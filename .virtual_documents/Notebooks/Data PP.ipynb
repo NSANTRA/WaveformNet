


import os
import wfdb
import numpy as np
import seaborn as sns
import pandas as pd
import matplotlib.pyplot as plt
from sklearn.preprocessing import LabelEncoder
import tensorflow as tf
from tensorflow.keras.models import Sequential
from tensorflow.keras.layers import Conv1D, MaxPooling1D, Dense, Flatten, Dropout, BatchNormalization
from sklearn.model_selection import train_test_split





# Patient IDs
pid = sorted(list({i.split(".")[0] for i in os.listdir("../mitdb/")}))


len(pid)


pid








df = pd.DataFrame()


ann = wfdb.rdann(f"../mitdb/{pid[0]}", "atr")


ann.symbol


np.unique(ann.symbol, return_counts = True)


for i in pid:
    # Annotation Extraction
    ann = wfdb.rdann(f"../mitdb/{i}", "atr")
    sym = ann.symbol
    values, counts = np.unique(sym, return_counts = True)

    data = pd.DataFrame({"Patient ID": [i] * len(counts), "Symbol": values, "Count": counts})

    df = pd.concat([df, data], axis = 0)


df


sns.countplot(x = "Symbol", data = df, hue = "Symbol", palette = "PuBuGn", legend = False)
plt.ylabel("Count")
plt.show()


# Obtained from external sources

# Non Beat Symbols
nonbeat = ['[','!',']','x','(',')','p','t','u','`', '\'','^','|','~','+','s','T','*','D','=','"','@','Q','?']

# Abnormal Beat Symbols
abnormal = ['L','R','V','/','A','f','F','j','a','E','J','e','S']

# Normal Beat Symbols
normal = ['N'] 


df["Category"] = -1
df.loc[df.Symbol == "N", "Category"] = 0

for i in abnormal:
    df.loc[df.Symbol == i, "Category"] = 1


df


df.groupby("Category").Count.sum()


# Removing the non-beat data from the dataframe
df = df[df["Category"] != -1]


df.groupby("Category").Count.sum()


# Saving the DataFrame
df.to_csv("../Annotation.csv", index = False)








# Load ECG signal
rec = wfdb.rdrecord('../mitdb/100')
sig = rec.p_signal

# Load annotations
ann = wfdb.rdann('../mitdb/100', 'atr')

# Get the indices of R-peaks in the signal
# Assuming that the heart beat is 75, then the heart beats around 2250 times
r_peaks_indices = ann.sample


len(sig)


plt.plot(sig[270:520])
plt.show()


sig[270:520].dtype


ann.sample.shape, len(ann.symbol)


ann.sample[:5]


ann.symbol[:5]


sig.shape, r_peaks_indices.shape


r_peaks_indices[:5]


plt.plot(sig[:150])
plt.title("Sample ECG")
plt.show()


X = [] # Features
y = [] # Labels


for id in pid:
    rec = wfdb.rdrecord(f"../mitdb/{id}")
    signal = rec.p_signal

    ann = wfdb.rdann(f"../mitdb/{id}", "atr")
    r_peaks_indices = ann.sample

    symbols = ann.symbol

    for idx, r_peak in enumerate(r_peaks_indices):
        start = r_peak - 100
        end = r_peak + 150

        if start >= 0 and end < len(signal):
            X.append(signal[start:end, :].astype(np.float16))
            y.append(symbols[idx])


X = np.array(X)


y = np.array(y)


X.dtype


encoder = LabelEncoder()

y = encoder.fit_transform(y).astype(np.int8)


y.dtype


X.shape, y.shape


mapping_file = '../Encoded Classes.txt'
label_encoder_mapping = {}
with open(mapping_file, 'r', encoding='utf-8') as file:
    for line in file:
        if '→' in line:
            symbol, code = line.strip().split('→')
            symbol = symbol.strip()
            code = int(code.strip())
            label_encoder_mapping[symbol] = code

nonbeat_symbols = ['[', '!', ']', 'x', '(', ')', 'p', 't', 'u', '`', '\'', '^', '|', '~', '+', 's', 'T', '*', 'D', '=', '"', '@', 'Q', '?']

nonbeat_encoded = [label_encoder_mapping[symbol] for symbol in nonbeat_symbols if symbol in label_encoder_mapping]
print(f"Non-beat encoded labels: {nonbeat_encoded}")

mask = np.isin(y, nonbeat_encoded, invert=True)

X_cleaned = X[mask]
y_cleaned = y[mask]
print(f"Shape after cleaning: X_cleaned = {X_cleaned.shape}, y_cleaned = {y_cleaned.shape}")


unique_classes = np.unique(y_cleaned)
class_counts = np.array([np.sum(y_cleaned == c) for c in unique_classes])
print("Remaining classes and their counts:")
for c, count in zip(unique_classes, class_counts):
    print(f"Class {c}: {count} samples")

max_class_id = np.max(unique_classes)
print(f"New output layer size needed: {max_class_id + 1}")

label_encoder = LabelEncoder()
y_cleaned = label_encoder.fit_transform(y_cleaned)

reverse_mapping = {v: k for k, v in label_encoder_mapping.items()}

symbol_to_new_id = {reverse_mapping[old_id]: new_id
                    for old_id, new_id in zip(label_encoder.classes_, label_encoder.transform(label_encoder.classes_))
                    if old_id in reverse_mapping}

with open('../Remapped_Symbol_Classes.txt', 'w', encoding='utf-8') as f:
    for symbol, new_id in symbol_to_new_id.items():
        f.write(f"{symbol} → {new_id}\n")

print("Symbol-to-new-ID mapping saved to 'Remapped_Symbol_Classes.txt'.")


np.save("Features.npy", X_cleaned)
np.save("Labels.npy", y_cleaned)
