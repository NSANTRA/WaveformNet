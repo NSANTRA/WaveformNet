


import os
import numpy as np
import pandas as pd
import seaborn as sns
import matplotlib.pyplot as plt
import tensorflow as tf
from tensorflow.keras.regularizers import l2
from tensorflow.keras.callbacks import EarlyStopping
from tensorflow.keras.models import Sequential
from tensorflow.keras.layers import Conv1D, MaxPooling1D, Dense, Flatten, Dropout, BatchNormalization
from sklearn.model_selection import train_test_split








X = np.load("../Features.npy")
y = np.load("../Labels (Mutli Class).npy")


X.shape, y.shape


X_temp, X_test, y_temp, y_test = train_test_split(X, y, shuffle = True, random_state = 42, test_size = 0.2)
X_train, X_val, y_train, y_val = train_test_split(X_temp, y_temp, shuffle = True, random_state = 42, test_size = 0.2)


X_train.shape, X_val.shape, X_test.shape


# Numberof classes
np.unique(y_train).shape





def build_ecg_cnn_model(input_shape=(250, 2), num_classes=14):
    model = Sequential([
        Conv1D(filters=32, kernel_size=5, activation='relu', input_shape=input_shape),
        BatchNormalization(),
        MaxPooling1D(pool_size=2),
        Dropout(0.2),
        
        Conv1D(filters=64, kernel_size=5, activation='relu'),
        BatchNormalization(),
        MaxPooling1D(pool_size=2),
        Dropout(0.2),
        
        Conv1D(filters=128, kernel_size=3, activation='relu'),
        BatchNormalization(),
        MaxPooling1D(pool_size=2),
        Dropout(0.2),

        # Conv1D(filters=256, kernel_size=3, activation='relu'),
        # BatchNormalization(),
        # MaxPooling1D(pool_size=2),
        # Dropout(0.2),
        
        Flatten(),

        Dense(256, activation='relu', kernel_regularizer=l2(0.001)),
        Dropout(0.5),
        
        Dense(128, activation='relu', kernel_regularizer=l2(0.001)),
        Dropout(0.3),
        
        Dense(num_classes, activation='softmax')
    ])
    
    model.compile(
        optimizer = tf.keras.optimizers.Adam(learning_rate = 0.0001),
        loss = 'sparse_categorical_crossentropy',
        metrics = ['accuracy']
    )
    
    return model


model = build_ecg_cnn_model()


model.summary()





early_stop = EarlyStopping(monitor = "val_loss", patience = 3, restore_best_weights = True)


history = model.fit(X_train, y_train, validation_data = (X_val, y_val), epochs = 50, batch_size = 64)





# Saving the model in .h5 format
model.save("Models/Model.h5")


# Saving the model in .keras format
model.save("Models/Model.keras")


# Saving the model in tf format
model.save("Model", save_format = "tf")


hist_df = pd.DataFrame(history.history)


hist_df.to_csv("History.csv")
