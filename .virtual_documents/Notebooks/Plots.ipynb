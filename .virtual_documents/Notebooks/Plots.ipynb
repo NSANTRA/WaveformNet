


import pandas as pd
import matplotlib.pyplot as plt
import seaborn as sns
import tensorflow as tf
from sklearn.model_selection import train_test_split
from sklearn.metrics import confusion_matrix, classification_report
import numpy as np








hist_df = pd.read_csv("History.csv")
hist_df["epoch"] = hist_df.index + 1

accuracy_df = hist_df.melt(id_vars = "epoch", value_vars=["accuracy", "val_accuracy"], var_name="Dataset", value_name="Accuracy")
loss_df = hist_df.melt(id_vars = "epoch", value_vars = ["loss", "val_loss"], var_name = "Dataset", value_name=  "Loss")


sns.set(style="whitegrid")

fig, axes = plt.subplots(1, 2, figsize=(14, 5))

# Accuracy plot
sns.lineplot(data=accuracy_df, x="epoch", y="Accuracy", hue="Dataset", ax=axes[0])
axes[0].set_title("Training vs Validation Accuracy")
axes[0].set_xlabel("Epoch")
axes[0].set_ylabel("Accuracy")

# Loss plot
sns.lineplot(data=loss_df, x="epoch", y="Loss", hue="Dataset", ax=axes[1])
axes[1].set_title("Training vs Validation Loss")
axes[1].set_xlabel("Epoch")
axes[1].set_ylabel("Loss")

plt.tight_layout()

plt.savefig("Plots/Combined Graphs.png", dpi=300)  # High-res PNG
plt.show()


sns.set(style="whitegrid")
plt.figure(figsize=(10, 6))
sns.lineplot(data=accuracy_df, x="epoch", y="Accuracy", hue="Dataset")
plt.title("Training and Validation Accuracy")
plt.xlabel("Epoch")
plt.ylabel("Accuracy")
plt.legend(title="Dataset")
plt.savefig("Plots/Accuracy Graphs.png", dpi=300)  # High-res PNG
plt.show()


plt.figure(figsize=(10, 6))
sns.lineplot(data=loss_df, x="epoch", y="Loss", hue="Dataset")
plt.title("Training and Validation Loss")
plt.xlabel("Epoch")
plt.ylabel("Loss")
plt.legend(title="Dataset")
plt.savefig("Plots/Loss Graphs.png", dpi=300)
plt.show()








model = tf.keras.models.load_model("../Models/Model.h5")


X = np.load("../Features.npy")
y = np.load("../Labels.npy")





_, X_test, _, y_test = train_test_split(X, y, shuffle = True, random_state = 10, test_size = 0.2)


X_test.shape, y_test.shape


y_pred_probs = model.predict(X_test)
y_pred = y_pred_probs.argmax(axis = 1)


y_true = y_test








values, _ = np.unique(y_true, return_counts = True)


values


np.unique(y_true, return_counts = True)


np.unique(y_pred, return_counts = True)





cm = confusion_matrix(y_true, y_pred)


plt.figure(figsize = (8, 6))
sns.heatmap(cm, annot = True, fmt = "d", cmap = "Greens", cbar = False, xticklabels = values, yticklabels = values)
plt.xlabel("Predicted")
plt.ylabel("Actual")
plt.title("Confusion Matrix")
plt.tight_layout()

# Save the plot
plt.savefig("../Plots/Confusion Matrix.png", dpi=300)
plt.show()





classification_report(y_true, y_pred)



