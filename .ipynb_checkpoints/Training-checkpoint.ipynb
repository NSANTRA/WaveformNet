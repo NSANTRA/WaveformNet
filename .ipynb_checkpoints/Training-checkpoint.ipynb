{
 "cells": [
  {
   "cell_type": "code",
   "execution_count": 1,
   "id": "a537c649-65f3-4199-9b75-077428869440",
   "metadata": {},
   "outputs": [],
   "source": [
    "import os\n",
    "import numpy as np\n",
    "import pandas as pd\n",
    "import seaborn as sns\n",
    "import matplotlib.pyplot as plt\n",
    "import tensorflow as tf\n",
    "from tensorflow.keras.regularizers import l2\n",
    "from tensorflow.keras.callbacks import EarlyStopping\n",
    "from tensorflow.keras.models import Sequential\n",
    "from tensorflow.keras.layers import Conv1D, MaxPooling1D, Dense, Flatten, Dropout, BatchNormalization\n",
    "from sklearn.model_selection import train_test_split"
   ]
  },
  {
   "cell_type": "markdown",
   "id": "91a35a1e-49fb-4842-87ac-7553a652f464",
   "metadata": {},
   "source": [
    "# Training"
   ]
  },
  {
   "cell_type": "code",
   "execution_count": 3,
   "id": "feeb1945-e580-4e15-bd17-dca2e07df4d9",
   "metadata": {},
   "outputs": [],
   "source": [
    "X = np.load(\"Features.npy\")\n",
    "y = np.load(\"Labels.npy\")"
   ]
  },
  {
   "cell_type": "code",
   "execution_count": 4,
   "id": "323d5f89-19c4-43d5-b59b-debb7044356b",
   "metadata": {},
   "outputs": [
    {
     "data": {
      "text/plain": [
       "((109416, 250, 2), (109416,))"
      ]
     },
     "execution_count": 4,
     "metadata": {},
     "output_type": "execute_result"
    }
   ],
   "source": [
    "X.shape, y.shape"
   ]
  },
  {
   "cell_type": "code",
   "execution_count": 5,
   "id": "536a15f6-15c7-47e6-89db-65d4776d12cb",
   "metadata": {},
   "outputs": [],
   "source": [
    "X_temp, X_test, y_temp, y_test = train_test_split(X, y, shuffle = True, random_state = 42, test_size = 0.2)\n",
    "X_train, X_val, y_train, y_val = train_test_split(X_temp, y_temp, shuffle = True, random_state = 42, test_size = 0.2)"
   ]
  },
  {
   "cell_type": "code",
   "execution_count": 6,
   "id": "b50d8afa-aaad-48ea-9e68-dc3a9c4f8a69",
   "metadata": {},
   "outputs": [
    {
     "data": {
      "text/plain": [
       "((70025, 250, 2), (17507, 250, 2), (21884, 250, 2))"
      ]
     },
     "execution_count": 6,
     "metadata": {},
     "output_type": "execute_result"
    }
   ],
   "source": [
    "X_train.shape, X_val.shape, X_test.shape"
   ]
  },
  {
   "cell_type": "code",
   "execution_count": 7,
   "id": "dc38d4df-655c-466c-a596-82a8e3ab222f",
   "metadata": {},
   "outputs": [
    {
     "data": {
      "text/plain": [
       "(14,)"
      ]
     },
     "execution_count": 7,
     "metadata": {},
     "output_type": "execute_result"
    }
   ],
   "source": [
    "# Numberof classes\n",
    "np.unique(y_train).shape"
   ]
  },
  {
   "cell_type": "code",
   "execution_count": 10,
   "id": "091e4527-a857-461b-864a-3783098f140f",
   "metadata": {},
   "outputs": [],
   "source": [
    "def build_ecg_cnn_model(input_shape=(250, 2), num_classes=14):\n",
    "    model = Sequential([\n",
    "        # 1st Convolution Block with BatchNormalization\n",
    "        Conv1D(filters=32, kernel_size=5, activation='relu', input_shape=input_shape),\n",
    "        BatchNormalization(),\n",
    "        MaxPooling1D(pool_size=2),\n",
    "        Dropout(0.2),\n",
    "        \n",
    "        # 2nd Convolution Block\n",
    "        Conv1D(filters=64, kernel_size=5, activation='relu'),\n",
    "        BatchNormalization(),\n",
    "        MaxPooling1D(pool_size=2),\n",
    "        Dropout(0.2),\n",
    "        \n",
    "        # 3rd Convolution Block\n",
    "        Conv1D(filters=128, kernel_size=3, activation='relu'),\n",
    "        BatchNormalization(),\n",
    "        MaxPooling1D(pool_size=2),\n",
    "        Dropout(0.2),\n",
    "\n",
    "        Conv1D(filters=256, kernel_size=3, activation='relu'),\n",
    "        BatchNormalization(),\n",
    "        MaxPooling1D(pool_size=2),\n",
    "        Dropout(0.2),\n",
    "        \n",
    "        # Flatten the feature maps\n",
    "        Flatten(),\n",
    "        \n",
    "        # Dense layers with regularization\n",
    "        Dense(256, activation='relu', kernel_regularizer=l2(0.001)),\n",
    "        Dropout(0.5),\n",
    "        \n",
    "        Dense(128, activation='relu', kernel_regularizer=l2(0.001)),\n",
    "        Dropout(0.3),\n",
    "        \n",
    "        # Output Layer\n",
    "        Dense(num_classes, activation='softmax')\n",
    "    ])\n",
    "    \n",
    "    # Compile with a lower learning rate\n",
    "    model.compile(\n",
    "        optimizer=tf.keras.optimizers.Adam(learning_rate=0.0001),\n",
    "        loss='sparse_categorical_crossentropy',\n",
    "        metrics=['accuracy']\n",
    "    )\n",
    "    \n",
    "    return model"
   ]
  },
  {
   "cell_type": "code",
   "execution_count": 11,
   "id": "b948f5b1-701e-4893-871d-e4dc7101f06a",
   "metadata": {},
   "outputs": [],
   "source": [
    "model = build_ecg_cnn_model()"
   ]
  },
  {
   "cell_type": "code",
   "execution_count": 12,
   "id": "0bb7d48e-6e92-457c-b1ce-ac419538dbac",
   "metadata": {},
   "outputs": [
    {
     "name": "stdout",
     "output_type": "stream",
     "text": [
      "Model: \"sequential\"\n",
      "_________________________________________________________________\n",
      " Layer (type)                Output Shape              Param #   \n",
      "=================================================================\n",
      " conv1d (Conv1D)             (None, 246, 32)           352       \n",
      "                                                                 \n",
      " batch_normalization (BatchN  (None, 246, 32)          128       \n",
      " ormalization)                                                   \n",
      "                                                                 \n",
      " max_pooling1d (MaxPooling1D  (None, 123, 32)          0         \n",
      " )                                                               \n",
      "                                                                 \n",
      " dropout (Dropout)           (None, 123, 32)           0         \n",
      "                                                                 \n",
      " conv1d_1 (Conv1D)           (None, 119, 64)           10304     \n",
      "                                                                 \n",
      " batch_normalization_1 (Batc  (None, 119, 64)          256       \n",
      " hNormalization)                                                 \n",
      "                                                                 \n",
      " max_pooling1d_1 (MaxPooling  (None, 59, 64)           0         \n",
      " 1D)                                                             \n",
      "                                                                 \n",
      " dropout_1 (Dropout)         (None, 59, 64)            0         \n",
      "                                                                 \n",
      " conv1d_2 (Conv1D)           (None, 57, 128)           24704     \n",
      "                                                                 \n",
      " batch_normalization_2 (Batc  (None, 57, 128)          512       \n",
      " hNormalization)                                                 \n",
      "                                                                 \n",
      " max_pooling1d_2 (MaxPooling  (None, 28, 128)          0         \n",
      " 1D)                                                             \n",
      "                                                                 \n",
      " dropout_2 (Dropout)         (None, 28, 128)           0         \n",
      "                                                                 \n",
      " conv1d_3 (Conv1D)           (None, 26, 256)           98560     \n",
      "                                                                 \n",
      " batch_normalization_3 (Batc  (None, 26, 256)          1024      \n",
      " hNormalization)                                                 \n",
      "                                                                 \n",
      " max_pooling1d_3 (MaxPooling  (None, 13, 256)          0         \n",
      " 1D)                                                             \n",
      "                                                                 \n",
      " dropout_3 (Dropout)         (None, 13, 256)           0         \n",
      "                                                                 \n",
      " flatten (Flatten)           (None, 3328)              0         \n",
      "                                                                 \n",
      " dense (Dense)               (None, 256)               852224    \n",
      "                                                                 \n",
      " dropout_4 (Dropout)         (None, 256)               0         \n",
      "                                                                 \n",
      " dense_1 (Dense)             (None, 128)               32896     \n",
      "                                                                 \n",
      " dropout_5 (Dropout)         (None, 128)               0         \n",
      "                                                                 \n",
      " dense_2 (Dense)             (None, 14)                1806      \n",
      "                                                                 \n",
      "=================================================================\n",
      "Total params: 1,022,766\n",
      "Trainable params: 1,021,806\n",
      "Non-trainable params: 960\n",
      "_________________________________________________________________\n"
     ]
    }
   ],
   "source": [
    "model.summary()"
   ]
  },
  {
   "cell_type": "code",
   "execution_count": 20,
   "id": "a08e698d-284b-428b-b784-24643188017c",
   "metadata": {},
   "outputs": [],
   "source": [
    "early_stop = EarlyStopping(monitor = \"val_loss\", patience = 3, restore_best_weights = True)"
   ]
  },
  {
   "cell_type": "code",
   "execution_count": 22,
   "id": "f5527e8f-26eb-4786-aafc-d8837cd0270c",
   "metadata": {
    "scrolled": true
   },
   "outputs": [
    {
     "name": "stdout",
     "output_type": "stream",
     "text": [
      "Epoch 1/50\n",
      "1095/1095 [==============================] - 16s 12ms/step - loss: 1.2452 - accuracy: 0.8432 - val_loss: 0.8817 - val_accuracy: 0.9252\n",
      "Epoch 2/50\n",
      "1095/1095 [==============================] - 13s 12ms/step - loss: 0.8515 - accuracy: 0.9300 - val_loss: 0.7454 - val_accuracy: 0.9491\n",
      "Epoch 3/50\n",
      "1095/1095 [==============================] - 13s 12ms/step - loss: 0.7088 - accuracy: 0.9493 - val_loss: 0.6228 - val_accuracy: 0.9609\n",
      "Epoch 4/50\n",
      "1095/1095 [==============================] - 13s 12ms/step - loss: 0.6010 - accuracy: 0.9589 - val_loss: 0.5422 - val_accuracy: 0.9666\n",
      "Epoch 5/50\n",
      "1095/1095 [==============================] - 13s 12ms/step - loss: 0.5065 - accuracy: 0.9653 - val_loss: 0.4426 - val_accuracy: 0.9745\n",
      "Epoch 6/50\n",
      "1095/1095 [==============================] - 13s 11ms/step - loss: 0.4277 - accuracy: 0.9697 - val_loss: 0.3692 - val_accuracy: 0.9780\n",
      "Epoch 7/50\n",
      "1095/1095 [==============================] - 13s 12ms/step - loss: 0.3629 - accuracy: 0.9726 - val_loss: 0.3063 - val_accuracy: 0.9812\n",
      "Epoch 8/50\n",
      "1095/1095 [==============================] - 13s 11ms/step - loss: 0.3093 - accuracy: 0.9758 - val_loss: 0.2751 - val_accuracy: 0.9797\n",
      "Epoch 9/50\n",
      "1095/1095 [==============================] - 13s 11ms/step - loss: 0.2652 - accuracy: 0.9778 - val_loss: 0.2273 - val_accuracy: 0.9835\n",
      "Epoch 10/50\n",
      "1095/1095 [==============================] - 13s 11ms/step - loss: 0.2291 - accuracy: 0.9804 - val_loss: 0.1920 - val_accuracy: 0.9868\n",
      "Epoch 11/50\n",
      "1095/1095 [==============================] - 13s 12ms/step - loss: 0.2025 - accuracy: 0.9812 - val_loss: 0.1781 - val_accuracy: 0.9862\n",
      "Epoch 12/50\n",
      "1095/1095 [==============================] - 13s 11ms/step - loss: 0.1797 - accuracy: 0.9824 - val_loss: 0.1501 - val_accuracy: 0.9886\n",
      "Epoch 13/50\n",
      "1095/1095 [==============================] - 13s 12ms/step - loss: 0.1620 - accuracy: 0.9832 - val_loss: 0.1434 - val_accuracy: 0.9880\n",
      "Epoch 14/50\n",
      "1095/1095 [==============================] - 13s 12ms/step - loss: 0.1450 - accuracy: 0.9845 - val_loss: 0.1219 - val_accuracy: 0.9894\n",
      "Epoch 15/50\n",
      "1095/1095 [==============================] - 13s 12ms/step - loss: 0.1335 - accuracy: 0.9854 - val_loss: 0.1205 - val_accuracy: 0.9882\n",
      "Epoch 16/50\n",
      "1095/1095 [==============================] - 13s 12ms/step - loss: 0.1239 - accuracy: 0.9861 - val_loss: 0.1069 - val_accuracy: 0.9895\n",
      "Epoch 17/50\n",
      "1095/1095 [==============================] - 13s 12ms/step - loss: 0.1160 - accuracy: 0.9863 - val_loss: 0.1035 - val_accuracy: 0.9890\n",
      "Epoch 18/50\n",
      "1095/1095 [==============================] - 13s 11ms/step - loss: 0.1092 - accuracy: 0.9869 - val_loss: 0.0953 - val_accuracy: 0.9902\n",
      "Epoch 19/50\n",
      "1095/1095 [==============================] - 13s 12ms/step - loss: 0.1017 - accuracy: 0.9879 - val_loss: 0.0891 - val_accuracy: 0.9899\n",
      "Epoch 20/50\n",
      "1095/1095 [==============================] - 13s 11ms/step - loss: 0.0974 - accuracy: 0.9883 - val_loss: 0.0877 - val_accuracy: 0.9906\n",
      "Epoch 21/50\n",
      "1095/1095 [==============================] - 13s 12ms/step - loss: 0.0945 - accuracy: 0.9883 - val_loss: 0.0853 - val_accuracy: 0.9906\n",
      "Epoch 22/50\n",
      "1095/1095 [==============================] - 13s 12ms/step - loss: 0.0898 - accuracy: 0.9888 - val_loss: 0.0779 - val_accuracy: 0.9919\n",
      "Epoch 23/50\n",
      "1095/1095 [==============================] - 13s 11ms/step - loss: 0.0852 - accuracy: 0.9890 - val_loss: 0.0802 - val_accuracy: 0.9909\n",
      "Epoch 24/50\n",
      "1095/1095 [==============================] - 12s 11ms/step - loss: 0.0836 - accuracy: 0.9893 - val_loss: 0.0778 - val_accuracy: 0.9909\n",
      "Epoch 25/50\n",
      "1095/1095 [==============================] - 12s 11ms/step - loss: 0.0815 - accuracy: 0.9893 - val_loss: 0.0759 - val_accuracy: 0.9909\n",
      "Epoch 26/50\n",
      "1095/1095 [==============================] - 13s 12ms/step - loss: 0.0789 - accuracy: 0.9902 - val_loss: 0.0754 - val_accuracy: 0.9906\n",
      "Epoch 27/50\n",
      "1095/1095 [==============================] - 13s 12ms/step - loss: 0.0770 - accuracy: 0.9898 - val_loss: 0.0726 - val_accuracy: 0.9916\n",
      "Epoch 28/50\n",
      "1095/1095 [==============================] - 13s 12ms/step - loss: 0.0749 - accuracy: 0.9904 - val_loss: 0.0710 - val_accuracy: 0.9915\n",
      "Epoch 29/50\n",
      "1095/1095 [==============================] - 13s 12ms/step - loss: 0.0735 - accuracy: 0.9904 - val_loss: 0.0702 - val_accuracy: 0.9917\n",
      "Epoch 30/50\n",
      "1095/1095 [==============================] - 13s 12ms/step - loss: 0.0718 - accuracy: 0.9906 - val_loss: 0.0676 - val_accuracy: 0.9922\n",
      "Epoch 31/50\n",
      "1095/1095 [==============================] - 13s 12ms/step - loss: 0.0701 - accuracy: 0.9911 - val_loss: 0.0714 - val_accuracy: 0.9913\n",
      "Epoch 32/50\n",
      "1095/1095 [==============================] - 13s 12ms/step - loss: 0.0711 - accuracy: 0.9907 - val_loss: 0.0682 - val_accuracy: 0.9917\n",
      "Epoch 33/50\n",
      "1095/1095 [==============================] - 13s 12ms/step - loss: 0.0673 - accuracy: 0.9911 - val_loss: 0.0675 - val_accuracy: 0.9914\n",
      "Epoch 34/50\n",
      "1095/1095 [==============================] - 13s 12ms/step - loss: 0.0673 - accuracy: 0.9913 - val_loss: 0.0681 - val_accuracy: 0.9917\n",
      "Epoch 35/50\n",
      "1095/1095 [==============================] - 13s 12ms/step - loss: 0.0661 - accuracy: 0.9915 - val_loss: 0.0672 - val_accuracy: 0.9915\n",
      "Epoch 36/50\n",
      "1095/1095 [==============================] - 13s 11ms/step - loss: 0.0639 - accuracy: 0.9919 - val_loss: 0.0639 - val_accuracy: 0.9917\n",
      "Epoch 37/50\n",
      "1095/1095 [==============================] - 13s 12ms/step - loss: 0.0630 - accuracy: 0.9919 - val_loss: 0.0649 - val_accuracy: 0.9916\n",
      "Epoch 38/50\n",
      "1095/1095 [==============================] - 13s 12ms/step - loss: 0.0634 - accuracy: 0.9919 - val_loss: 0.0656 - val_accuracy: 0.9910\n",
      "Epoch 39/50\n",
      "1095/1095 [==============================] - 13s 12ms/step - loss: 0.0632 - accuracy: 0.9918 - val_loss: 0.0641 - val_accuracy: 0.9917\n",
      "Epoch 40/50\n",
      "1095/1095 [==============================] - 13s 11ms/step - loss: 0.0629 - accuracy: 0.9918 - val_loss: 0.0635 - val_accuracy: 0.9927\n",
      "Epoch 41/50\n",
      "1095/1095 [==============================] - 13s 12ms/step - loss: 0.0605 - accuracy: 0.9926 - val_loss: 0.0631 - val_accuracy: 0.9922\n",
      "Epoch 42/50\n",
      "1095/1095 [==============================] - 13s 12ms/step - loss: 0.0613 - accuracy: 0.9919 - val_loss: 0.0641 - val_accuracy: 0.9923\n",
      "Epoch 43/50\n",
      "1095/1095 [==============================] - 13s 11ms/step - loss: 0.0616 - accuracy: 0.9919 - val_loss: 0.0669 - val_accuracy: 0.9917\n",
      "Epoch 44/50\n",
      "1095/1095 [==============================] - 13s 11ms/step - loss: 0.0586 - accuracy: 0.9928 - val_loss: 0.0625 - val_accuracy: 0.9926\n",
      "Epoch 45/50\n",
      "1095/1095 [==============================] - 13s 11ms/step - loss: 0.0589 - accuracy: 0.9928 - val_loss: 0.0618 - val_accuracy: 0.9924\n",
      "Epoch 46/50\n",
      "1095/1095 [==============================] - 13s 11ms/step - loss: 0.0590 - accuracy: 0.9926 - val_loss: 0.0653 - val_accuracy: 0.9919\n",
      "Epoch 47/50\n",
      "1095/1095 [==============================] - 13s 11ms/step - loss: 0.0584 - accuracy: 0.9924 - val_loss: 0.0628 - val_accuracy: 0.9920\n",
      "Epoch 48/50\n",
      "1095/1095 [==============================] - 13s 11ms/step - loss: 0.0590 - accuracy: 0.9928 - val_loss: 0.0621 - val_accuracy: 0.9921\n",
      "Epoch 49/50\n",
      "1095/1095 [==============================] - 13s 11ms/step - loss: 0.0567 - accuracy: 0.9934 - val_loss: 0.0611 - val_accuracy: 0.9924\n",
      "Epoch 50/50\n",
      "1095/1095 [==============================] - 13s 12ms/step - loss: 0.0573 - accuracy: 0.9924 - val_loss: 0.0632 - val_accuracy: 0.9916\n"
     ]
    }
   ],
   "source": [
    "history = model.fit(X_train, y_train, validation_data = (X_val, y_val), epochs = 50, batch_size = 64)"
   ]
  },
  {
   "cell_type": "markdown",
   "id": "d3dccb3f-0cb6-494c-b326-15bf3ee02a5b",
   "metadata": {},
   "source": [
    "## Saving The Model"
   ]
  },
  {
   "cell_type": "code",
   "execution_count": 31,
   "id": "43baa93c-8056-4cf4-9842-e5a02c03902b",
   "metadata": {},
   "outputs": [],
   "source": [
    "# Saving the model in .h5 format\n",
    "model.save(\"Models/Model.h5\")"
   ]
  },
  {
   "cell_type": "code",
   "execution_count": 33,
   "id": "7aa6edf1-3a85-4f39-aaad-d56731e7c4a2",
   "metadata": {},
   "outputs": [],
   "source": [
    "# Saving the model in .keras format\n",
    "model.save(\"Models/Model.keras\")"
   ]
  },
  {
   "cell_type": "code",
   "execution_count": 29,
   "id": "3dc19734-457a-40a2-8444-f51ea526a479",
   "metadata": {},
   "outputs": [
    {
     "name": "stderr",
     "output_type": "stream",
     "text": [
      "WARNING:absl:Found untraced functions such as _jit_compiled_convolution_op, _jit_compiled_convolution_op, _jit_compiled_convolution_op, _jit_compiled_convolution_op while saving (showing 4 of 4). These functions will not be directly callable after loading.\n"
     ]
    },
    {
     "name": "stdout",
     "output_type": "stream",
     "text": [
      "INFO:tensorflow:Assets written to: Model\\assets\n"
     ]
    },
    {
     "name": "stderr",
     "output_type": "stream",
     "text": [
      "INFO:tensorflow:Assets written to: Model\\assets\n"
     ]
    }
   ],
   "source": [
    "# Saving the model in tf format\n",
    "model.save(\"Model\", save_format = \"tf\")"
   ]
  },
  {
   "cell_type": "code",
   "execution_count": 35,
   "id": "40d8b298-66db-4de7-afba-ccfa86402be4",
   "metadata": {},
   "outputs": [],
   "source": [
    "hist_df = pd.DataFrame(history.history)"
   ]
  },
  {
   "cell_type": "code",
   "execution_count": 37,
   "id": "b9293381-acb6-455e-9ef3-de3cfcf92ab1",
   "metadata": {},
   "outputs": [],
   "source": [
    "hist_df.to_csv(\"History.csv\")"
   ]
  }
 ],
 "metadata": {
  "kernelspec": {
   "display_name": "Python [conda env:Tensorflow-GPU]",
   "language": "python",
   "name": "conda-env-Tensorflow-GPU-py"
  },
  "language_info": {
   "codemirror_mode": {
    "name": "ipython",
    "version": 3
   },
   "file_extension": ".py",
   "mimetype": "text/x-python",
   "name": "python",
   "nbconvert_exporter": "python",
   "pygments_lexer": "ipython3",
   "version": "3.10.13"
  },
  "widgets": {
   "application/vnd.jupyter.widget-state+json": {
    "state": {},
    "version_major": 2,
    "version_minor": 0
   }
  }
 },
 "nbformat": 4,
 "nbformat_minor": 5
}
